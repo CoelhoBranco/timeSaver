{
 "cells": [
  {
   "cell_type": "code",
   "execution_count": 27,
   "metadata": {},
   "outputs": [
    {
     "ename": "ValueError",
     "evalue": "O número de celular informado é inválido. Verifique se o número tem exatamente 11 dígitos.",
     "output_type": "error",
     "traceback": [
      "\u001b[1;31m---------------------------------------------------------------------------\u001b[0m",
      "\u001b[1;31mValueError\u001b[0m                                Traceback (most recent call last)",
      "Cell \u001b[1;32mIn[27], line 19\u001b[0m\n\u001b[0;32m     15\u001b[0m     ddd \u001b[39m=\u001b[39m number[:\u001b[39m2\u001b[39m] \n\u001b[0;32m     17\u001b[0m     \u001b[39mreturn\u001b[39;00m ddd, celular\n\u001b[1;32m---> 19\u001b[0m cel(texto)\n",
      "Cell \u001b[1;32mIn[27], line 13\u001b[0m, in \u001b[0;36mcel\u001b[1;34m(texto)\u001b[0m\n\u001b[0;32m     11\u001b[0m number \u001b[39m=\u001b[39m \u001b[39mstr\u001b[39m(\u001b[39mint\u001b[39m(number))\n\u001b[0;32m     12\u001b[0m \u001b[39mif\u001b[39;00m \u001b[39mlen\u001b[39m(number) \u001b[39m!=\u001b[39m \u001b[39m11\u001b[39m:\n\u001b[1;32m---> 13\u001b[0m     \u001b[39mraise\u001b[39;00m \u001b[39mValueError\u001b[39;00m(\u001b[39m\"\u001b[39m\u001b[39mO número de celular informado é inválido. Verifique se o número tem exatamente 11 dígitos.\u001b[39m\u001b[39m\"\u001b[39m)\n\u001b[0;32m     14\u001b[0m celular \u001b[39m=\u001b[39m number[\u001b[39m2\u001b[39m:]\n\u001b[0;32m     15\u001b[0m ddd \u001b[39m=\u001b[39m number[:\u001b[39m2\u001b[39m] \n",
      "\u001b[1;31mValueError\u001b[0m: O número de celular informado é inválido. Verifique se o número tem exatamente 11 dígitos."
     ]
    }
   ],
   "source": [
    "import re\n",
    "\n",
    "texto = \"ab022c123def456ghi89\"\n",
    "numeros = re.findall(r'\\d+', texto)\n",
    "numeros = ''.join(numeros)\n",
    "#print(numeros)  # ['123', '456', '789']  \n",
    "\n",
    "def cel(texto):\n",
    "    number = re.findall(r'\\d+', texto)\n",
    "    number = ''.join(number)\n",
    "    number = str(int(number))\n",
    "    if len(number) != 11:\n",
    "        raise ValueError(\"O número de celular informado é inválido. Verifique se o número tem exatamente 11 dígitos.\")\n",
    "    celular = number[2:]\n",
    "    ddd = number[:2] \n",
    "    \n",
    "    return ddd, celular\n",
    "    \n",
    "cel(texto)\n",
    "    "
   ]
  },
  {
   "cell_type": "code",
   "execution_count": 21,
   "metadata": {},
   "outputs": [
    {
     "data": {
      "text/plain": [
       "11"
      ]
     },
     "execution_count": 21,
     "metadata": {},
     "output_type": "execute_result"
    }
   ],
   "source": [
    "len(str(21974082703))"
   ]
  }
 ],
 "metadata": {
  "kernelspec": {
   "display_name": "tutorial-env",
   "language": "python",
   "name": "python3"
  },
  "language_info": {
   "codemirror_mode": {
    "name": "ipython",
    "version": 3
   },
   "file_extension": ".py",
   "mimetype": "text/x-python",
   "name": "python",
   "nbconvert_exporter": "python",
   "pygments_lexer": "ipython3",
   "version": "3.10.9"
  },
  "orig_nbformat": 4
 },
 "nbformat": 4,
 "nbformat_minor": 2
}
